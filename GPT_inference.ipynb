{
 "cells": [
  {
   "cell_type": "code",
   "execution_count": 1,
   "metadata": {},
   "outputs": [],
   "source": [
    "from openai import OpenAI\n",
    "import csv\n",
    "import pandas as pd\n",
    "from tenacity import (\n",
    "    retry,\n",
    "    stop_after_attempt,\n",
    "    wait_random_exponential,\n",
    ")  # for exponential backoff"
   ]
  },
  {
   "cell_type": "code",
   "execution_count": 2,
   "metadata": {},
   "outputs": [],
   "source": [
    "client = OpenAI(\n",
    "    api_key=\"YOUR_OPENAI_KEY\",\n",
    ")\n",
    "@retry(wait=wait_random_exponential(min=1, max=60), stop=stop_after_attempt(6))\n",
    "def GPT4(model, prompts, student_answer, output=None):\n",
    "    messages = [{\"role\": \"user\", \"content\": prompts[0]+student_answer}]\n",
    "    if output:\n",
    "        messages.append({\"role\": \"assistant\", \"content\": output})\n",
    "        messages.append({\"role\": \"user\", \"content\": prompts[1]})\n",
    "    response_json = client.chat.completions.create(\n",
    "        model=model,\n",
    "        messages=messages,\n",
    "        temperature=0\n",
    "    )\n",
    "    output = response_json.choices[0].message.content\n",
    "    return output"
   ]
  },
  {
   "cell_type": "code",
   "execution_count": 3,
   "metadata": {},
   "outputs": [],
   "source": [
    "question = 'Q1'\n",
    "model = 'gpt-4-1106-preview'\n",
    "exp_name = 'rationale_score_onequery'\n",
    "dataset_path = f'sample_answer/{question}.csv'\n",
    "output_path = f'gpt-4-output/{question}.csv'"
   ]
  },
  {
   "cell_type": "code",
   "execution_count": 4,
   "metadata": {},
   "outputs": [
    {
     "data": {
      "text/html": [
       "<div>\n",
       "<style scoped>\n",
       "    .dataframe tbody tr th:only-of-type {\n",
       "        vertical-align: middle;\n",
       "    }\n",
       "\n",
       "    .dataframe tbody tr th {\n",
       "        vertical-align: top;\n",
       "    }\n",
       "\n",
       "    .dataframe thead th {\n",
       "        text-align: right;\n",
       "    }\n",
       "</style>\n",
       "<table border=\"1\" class=\"dataframe\">\n",
       "  <thead>\n",
       "    <tr style=\"text-align: right;\">\n",
       "      <th></th>\n",
       "      <th>Id</th>\n",
       "      <th>EssaySet</th>\n",
       "      <th>EssayText</th>\n",
       "      <th>EssayScore</th>\n",
       "    </tr>\n",
       "  </thead>\n",
       "  <tbody>\n",
       "    <tr>\n",
       "      <th>0</th>\n",
       "      <td>1061.0</td>\n",
       "      <td>1.0</td>\n",
       "      <td>First you would need to know the amount of vin...</td>\n",
       "      <td>2.0</td>\n",
       "    </tr>\n",
       "    <tr>\n",
       "      <th>1</th>\n",
       "      <td>1717.0</td>\n",
       "      <td>1.0</td>\n",
       "      <td>How much vinegar do you put into the container...</td>\n",
       "      <td>1.0</td>\n",
       "    </tr>\n",
       "    <tr>\n",
       "      <th>2</th>\n",
       "      <td>910.0</td>\n",
       "      <td>1.0</td>\n",
       "      <td>Additional information needed in order to repl...</td>\n",
       "      <td>1.0</td>\n",
       "    </tr>\n",
       "    <tr>\n",
       "      <th>3</th>\n",
       "      <td>851.0</td>\n",
       "      <td>1.0</td>\n",
       "      <td>To replicate the experiment I would need the d...</td>\n",
       "      <td>0.0</td>\n",
       "    </tr>\n",
       "  </tbody>\n",
       "</table>\n",
       "</div>"
      ],
      "text/plain": [
       "       Id  EssaySet                                          EssayText  \\\n",
       "0  1061.0       1.0  First you would need to know the amount of vin...   \n",
       "1  1717.0       1.0  How much vinegar do you put into the container...   \n",
       "2   910.0       1.0  Additional information needed in order to repl...   \n",
       "3   851.0       1.0  To replicate the experiment I would need the d...   \n",
       "\n",
       "   EssayScore  \n",
       "0         2.0  \n",
       "1         1.0  \n",
       "2         1.0  \n",
       "3         0.0  "
      ]
     },
     "execution_count": 4,
     "metadata": {},
     "output_type": "execute_result"
    }
   ],
   "source": [
    "prompts = [open(f'prompt/{exp_name}/{question}.txt').read()]\n",
    "if exp_name == 'rationale_score_twoqueries':\n",
    "    prompts.append('Assign a score based on your judgment.')\n",
    "answers = pd.read_csv(dataset_path, header=0)\n",
    "answers"
   ]
  },
  {
   "cell_type": "code",
   "execution_count": 5,
   "metadata": {},
   "outputs": [],
   "source": [
    "outputs = []\n",
    "for i, stu in answers.iterrows():\n",
    "    output = GPT4(model, prompts, stu.EssayText)\n",
    "    if exp_name == 'rationale_score_twoqueries':\n",
    "        outputs.append('\\n\\n'.join([output, GPT4(model, prompts, stu.EssayText, output)]))\n",
    "    else:\n",
    "        outputs.append(output)"
   ]
  },
  {
   "cell_type": "code",
   "execution_count": 6,
   "metadata": {},
   "outputs": [
    {
     "data": {
      "text/html": [
       "<div>\n",
       "<style scoped>\n",
       "    .dataframe tbody tr th:only-of-type {\n",
       "        vertical-align: middle;\n",
       "    }\n",
       "\n",
       "    .dataframe tbody tr th {\n",
       "        vertical-align: top;\n",
       "    }\n",
       "\n",
       "    .dataframe thead th {\n",
       "        text-align: right;\n",
       "    }\n",
       "</style>\n",
       "<table border=\"1\" class=\"dataframe\">\n",
       "  <thead>\n",
       "    <tr style=\"text-align: right;\">\n",
       "      <th></th>\n",
       "      <th>Id</th>\n",
       "      <th>EssaySet</th>\n",
       "      <th>EssayText</th>\n",
       "      <th>EssayScore</th>\n",
       "      <th>gpt-4-1106-preview</th>\n",
       "    </tr>\n",
       "  </thead>\n",
       "  <tbody>\n",
       "    <tr>\n",
       "      <th>0</th>\n",
       "      <td>1061.0</td>\n",
       "      <td>1.0</td>\n",
       "      <td>First you would need to know the amount of vin...</td>\n",
       "      <td>2.0</td>\n",
       "      <td>The student's response successfully identifies...</td>\n",
       "    </tr>\n",
       "    <tr>\n",
       "      <th>1</th>\n",
       "      <td>1717.0</td>\n",
       "      <td>1.0</td>\n",
       "      <td>How much vinegar do you put into the container...</td>\n",
       "      <td>1.0</td>\n",
       "      <td>Judgment:\\nThe student response provides one c...</td>\n",
       "    </tr>\n",
       "    <tr>\n",
       "      <th>2</th>\n",
       "      <td>910.0</td>\n",
       "      <td>1.0</td>\n",
       "      <td>Additional information needed in order to repl...</td>\n",
       "      <td>1.0</td>\n",
       "      <td>Judgment:\\nThe student's response provides two...</td>\n",
       "    </tr>\n",
       "    <tr>\n",
       "      <th>3</th>\n",
       "      <td>851.0</td>\n",
       "      <td>1.0</td>\n",
       "      <td>To replicate the experiment I would need the d...</td>\n",
       "      <td>0.0</td>\n",
       "      <td>The student's response is vague and does not p...</td>\n",
       "    </tr>\n",
       "  </tbody>\n",
       "</table>\n",
       "</div>"
      ],
      "text/plain": [
       "       Id  EssaySet                                          EssayText  \\\n",
       "0  1061.0       1.0  First you would need to know the amount of vin...   \n",
       "1  1717.0       1.0  How much vinegar do you put into the container...   \n",
       "2   910.0       1.0  Additional information needed in order to repl...   \n",
       "3   851.0       1.0  To replicate the experiment I would need the d...   \n",
       "\n",
       "   EssayScore                                 gpt-4-1106-preview  \n",
       "0         2.0  The student's response successfully identifies...  \n",
       "1         1.0  Judgment:\\nThe student response provides one c...  \n",
       "2         1.0  Judgment:\\nThe student's response provides two...  \n",
       "3         0.0  The student's response is vague and does not p...  "
      ]
     },
     "execution_count": 6,
     "metadata": {},
     "output_type": "execute_result"
    }
   ],
   "source": [
    "answers[model] = outputs\n",
    "answers"
   ]
  },
  {
   "cell_type": "code",
   "execution_count": 7,
   "metadata": {},
   "outputs": [],
   "source": [
    "answers.to_csv(output_path, index=False)"
   ]
  }
 ],
 "metadata": {
  "kernelspec": {
   "display_name": "Python 3 (ipykernel)",
   "language": "python",
   "name": "python3"
  },
  "language_info": {
   "codemirror_mode": {
    "name": "ipython",
    "version": 3
   },
   "file_extension": ".py",
   "mimetype": "text/x-python",
   "name": "python",
   "nbconvert_exporter": "python",
   "pygments_lexer": "ipython3",
   "version": "3.11.7"
  }
 },
 "nbformat": 4,
 "nbformat_minor": 4
}
